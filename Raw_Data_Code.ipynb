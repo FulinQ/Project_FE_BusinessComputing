{
 "cells": [
  {
   "cell_type": "code",
   "execution_count": null,
   "id": "dd7a6029",
   "metadata": {},
   "outputs": [
    {
     "ename": "",
     "evalue": "",
     "output_type": "error",
     "traceback": [
      "\u001b[1;31mRunning cells with '/opt/homebrew/bin/python3' requires the ipykernel package.\n",
      "\u001b[1;31mRun the following command to install 'ipykernel' into the Python environment. \n",
      "\u001b[1;31mCommand: '/opt/homebrew/bin/python3 -m pip install ipykernel -U --user --force-reinstall'"
     ]
    }
   ],
   "source": [
    "import random\n",
    "import pandas as pd\n",
    "from datetime import datetime, timedelta\n",
    "\n",
    "# Set the number of products to generate\n",
    "num_products = 30000\n",
    "\n",
    "# List of product categories\n",
    "categories = ['Electronics', 'Automotive', 'Industrial Equipment',]\n",
    "\n",
    "# List of product names\n",
    "product_names = ['Gadget','Device', 'Machine']\n",
    "\n",
    "\"\"\"# Dictionary of fixed prices for each product\n",
    "fixed_prices = {\n",
    "    'Widget': 99.99,\n",
    "    'Gadget': 149.99,\n",
    "    'Repair Part' : 199.99,\n",
    "    'Device': 249.99,\n",
    "    'Appliance': 299.99,\n",
    "    'Machine': 399.99\n",
    "}\n",
    "\"\"\"\n",
    "# Generate raw data for OEM Manufacturer with fixed prices and production cost as a percentage of price\n",
    "raw_data = []\n",
    "\n",
    "# Specify the date range for orders\n",
    "start_date = datetime(2020, 1, 1)\n",
    "end_date = datetime(2023, 12, 31)\n",
    "\n",
    "for _ in range(num_products):\n",
    "    category = random.choice(categories)\n",
    "    product_name = random.choice(product_names)\n",
    "    model_number = f\"{category[:3].upper()}-{random.randint(100, 999)}\"\n",
    "\n",
    "    '''\n",
    "    # Use the fixed price from the dictionary\n",
    "    price = fixed_prices[product_name]\n",
    "\n",
    "    # Assume production cost is around 14% of the fixed price\n",
    "    production_cost_percentage = 0.86\n",
    "    production_cost = round(price * production_cost_percentage, 2)\n",
    "    '''\n",
    "\n",
    "    # Quantity available in stock\n",
    "    stock_quantity = random.randint(50,200)\n",
    "\n",
    "    # Generate a unique serial number\n",
    "    serial_number = f\"SN-{random.randint(100000, 999999)}\"\n",
    "\n",
    "    # Generate a random order date within the specified range\n",
    "    order_date = start_date + timedelta(days=random.randint(0, (end_date - start_date).days))\n",
    "\n",
    "    # Keep only the date component\n",
    "    order_date = order_date.date()\n",
    "\n",
    "    # Generate a random customer number\n",
    "    customer_number = f\"Cust-{random.randint(1000, 2000)}\"\n",
    "    raw_data.append([order_date, category, product_name, model_number, stock_quantity, serial_number, customer_number])\n",
    "\n",
    "# Create a DataFrame\n",
    "columns = ['OrderDate', 'Category', 'Sub-Category', 'Model Number', 'Stock Quantity', 'Serial Number', 'CustomerNo']\n",
    "oem_data = pd.DataFrame(raw_data, columns=columns)\n",
    "\n",
    "# Sort the data by OrderDate in ascending order\n",
    "oem_data = oem_data.sort_values(by='OrderDate')\n",
    "\n",
    "# Save the data to an Excel file\n",
    "oem_data.to_excel('oem_manufacturer_data_sorted_by_order_date_Test.xlsx', index=False)\n",
    "\n",
    "print(\"Raw OEM manufacturer data without Price and Cost columns, sorted by OrderDate, and saved to 'oem_manufacturer_data_sorted_by_order_date.xlsx'.\")\n"
   ]
  }
 ],
 "metadata": {
  "kernelspec": {
   "display_name": "Python 3 (ipykernel)",
   "language": "python",
   "name": "python3"
  },
  "language_info": {
   "codemirror_mode": {
    "name": "ipython",
    "version": 3
   },
   "file_extension": ".py",
   "mimetype": "text/x-python",
   "name": "python",
   "nbconvert_exporter": "python",
   "pygments_lexer": "ipython3",
   "version": "3.12.2"
  }
 },
 "nbformat": 4,
 "nbformat_minor": 5
}
